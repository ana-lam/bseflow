{
 "cells": [
  {
   "cell_type": "code",
   "execution_count": 2,
   "id": "689ebf81",
   "metadata": {},
   "outputs": [],
   "source": [
    "import os\n",
    "from bseflow import model_variations\n",
    "import subprocess\n",
    "import re"
   ]
  },
  {
   "cell_type": "code",
   "execution_count": 3,
   "id": "c2160a42",
   "metadata": {},
   "outputs": [],
   "source": [
    "%load_ext autoreload\n",
    "%autoreload 2"
   ]
  },
  {
   "cell_type": "markdown",
   "id": "31d72f8c",
   "metadata": {},
   "source": [
    "Create tasks for intermediate stage rates per formation channel (Classic CE, OSMT, Single-core CE, Double-core CE)"
   ]
  },
  {
   "cell_type": "code",
   "execution_count": 4,
   "id": "7c30d8a5",
   "metadata": {},
   "outputs": [
    {
     "name": "stdout",
     "output_type": "stream",
     "text": [
      "Nothing to do, /mnt/home/alam1/ceph/disBatch_dir/bseflow already exists\n"
     ]
    }
   ],
   "source": [
    "## Write disbatch tasks to tasks directory on cluster\n",
    "\n",
    "run_dir = \"/mnt/home/alam1/ceph/disBatch_dir/bseflow\"\n",
    "\n",
    "if not os.path.isdir(run_dir):\n",
    "    print('run_dir = ', run_dir)\n",
    "    os.makedirs(run_dir, exist_ok=True)\n",
    "else:\n",
    "    print(f'Nothing to do, {run_dir} already exists')\n",
    "\n",
    "model_files = [model_variations[f'{variation}']['file'] for variation in model_variations.keys()]\n",
    "\n",
    "channels = ['SMTCE', 'OSMT', 'SingleCore', 'DoubleCore']\n",
    "channel_flags = [('OS_pre_SN', 'CE_post_SN'), ('OS_pre_SN', 'OS_post_SN'), 'single_core', 'double_core']\n",
    "\n",
    "\n",
    "for i, channel in enumerate(channels):\n",
    "    with open(f'{run_dir}/{channel}task', 'w') as f:\n",
    "        start_line = f\"cd {run_dir} ; module load python disBatch ; \\n\"\n",
    "        f.write(start_line)\n",
    "        for model in model_files:\n",
    "            if isinstance(channel_flags[i], tuple): \n",
    "                channel_args = f'--MT1mask {channel_flags[i][0]} --MT2mask {channel_flags[i][1]}'\n",
    "            else:\n",
    "                channel_args = f'--MT1mask {channel_flags[i]}'\n",
    "            additional_args = f'--save_path {channel} --output_dir bseflow'\n",
    "            task_line = f\"python3 /mnt/home/alam1/bseflow/bseflow/output_rates.py /mnt/home/alam1/ceph/xfer/{model}/COMPASOutput.h5 {channel_args} {additional_args}\"\n",
    "            f.write(task_line + '\\n')     "
   ]
  },
  {
   "cell_type": "code",
   "execution_count": null,
   "id": "ff004485",
   "metadata": {},
   "outputs": [
    {
     "name": "stdout",
     "output_type": "stream",
     "text": [
      "4659129\n"
     ]
    }
   ],
   "source": [
    "# disBatch Command (-t 1-0 is also fine)\n",
    "\n",
    "for i, channel in enumerate(channels):\n",
    "    command = f\"cd {run_dir} && module load disBatch && sbatch -t 0-16:00:00 -p gen -n 18 disBatch {channel}task\"\n",
    "    result = subprocess.run(command, shell=True, capture_output=True, text=True)\n",
    "\n",
    "    # Extract the job ID from the output\n",
    "    match = re.search(r\"Submitted batch job (\\d+)\", result.stdout)\n",
    "    if match:\n",
    "        disBatch_job_ids = match.group(1)\n",
    "\n",
    "    print(disBatch_job_ids)"
   ]
  },
  {
   "cell_type": "markdown",
   "id": "2b848c75",
   "metadata": {},
   "source": [
    "Create tasks for intermediate stage rates for complete simulations (for Sankey results)"
   ]
  },
  {
   "cell_type": "code",
   "execution_count": 13,
   "id": "b1da202e",
   "metadata": {},
   "outputs": [],
   "source": [
    "with open(f'{run_dir}/alltask', 'w') as f:\n",
    "    start_line = f\"cd {run_dir} ; module load python disBatch ; \\n\"\n",
    "    f.write(start_line)\n",
    "    for model in model_files:\n",
    "        args = f'--save_path all --output_dir bseflow'\n",
    "        task_line = f\"python3 /mnt/home/alam1/bseflow/bseflow/output_rates.py /mnt/home/alam1/ceph/xfer/{model}/COMPASOutput.h5 {args}\"\n",
    "        f.write(task_line + '\\n') "
   ]
  }
 ],
 "metadata": {
  "kernelspec": {
   "display_name": "myvenv",
   "language": "python",
   "name": "python3"
  },
  "language_info": {
   "codemirror_mode": {
    "name": "ipython",
    "version": 3
   },
   "file_extension": ".py",
   "mimetype": "text/x-python",
   "name": "python",
   "nbconvert_exporter": "python",
   "pygments_lexer": "ipython3",
   "version": "3.10.13"
  }
 },
 "nbformat": 4,
 "nbformat_minor": 5
}
